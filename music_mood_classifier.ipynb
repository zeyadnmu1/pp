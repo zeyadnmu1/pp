{
  "cells": [
    {
      "cell_type": "markdown",
      "metadata": {},
      "source": "# Music Mood Classifier \u2014 Full Workflow\nThis notebook performs EDA, training, evaluation, and model export."
    },
    {
      "cell_type": "code",
      "metadata": {},
      "execution_count": null,
      "outputs": [],
      "source": "import pandas as pd, numpy as np, matplotlib.pyplot as plt\nfrom sklearn.model_selection import train_test_split, GridSearchCV\nfrom sklearn.metrics import classification_report, confusion_matrix\nfrom sklearn.ensemble import RandomForestClassifier\nimport joblib\n\nplt.rcParams.update({'figure.figsize': (8,5)})\ndf = pd.read_csv('../../data/music/songs.csv')\ndf.head()"
    },
    {
      "cell_type": "markdown",
      "metadata": {},
      "source": "## Class Distribution"
    },
    {
      "cell_type": "code",
      "metadata": {},
      "execution_count": null,
      "outputs": [],
      "source": "df['mood'].value_counts().plot(kind='bar')\nplt.title('Mood Class Distribution'); plt.xlabel('mood'); plt.ylabel('count'); plt.show()"
    },
    {
      "cell_type": "markdown",
      "metadata": {},
      "source": "## Numeric Summary"
    },
    {
      "cell_type": "code",
      "metadata": {},
      "execution_count": null,
      "outputs": [],
      "source": "df.describe(include=np.number)"
    },
    {
      "cell_type": "markdown",
      "metadata": {},
      "source": "## Simple Correlation (imshow)"
    },
    {
      "cell_type": "code",
      "metadata": {},
      "execution_count": null,
      "outputs": [],
      "source": "corr = df.select_dtypes(include=[np.number]).corr()\nplt.imshow(corr, aspect='auto'); plt.title('Correlation'); plt.colorbar(); plt.show()"
    },
    {
      "cell_type": "markdown",
      "metadata": {},
      "source": "## Train/Test Split & Model"
    },
    {
      "cell_type": "code",
      "metadata": {},
      "execution_count": null,
      "outputs": [],
      "source": "features = ['valence','energy','danceability','tempo','loudness','speechiness','acousticness','instrumentalness','liveness']\nX = df[features]\ny = df['mood'].astype('category')\nXtr, Xte, ytr, yte = train_test_split(X, y, test_size=0.2, stratify=y, random_state=42)\n\ngrid = GridSearchCV(RandomForestClassifier(random_state=42),\n                    {'n_estimators':[100,200],'max_depth':[None,5,10]},\n                    scoring='f1_macro', cv=3, n_jobs=-1)\ngrid.fit(Xtr, ytr)\npred = grid.best_estimator_.predict(Xte)\nprint('Best params:', grid.best_params_)\nprint(classification_report(yte, pred))\nprint(confusion_matrix(yte, pred))"
    },
    {
      "cell_type": "markdown",
      "metadata": {},
      "source": "## Export Model"
    },
    {
      "cell_type": "code",
      "metadata": {},
      "execution_count": null,
      "outputs": [],
      "source": "joblib.dump(grid.best_estimator_, '../../models/music/model.joblib')\nprint('Saved ../../models/music/model.joblib')"
    }
  ],
  "metadata": {
    "kernelspec": {
      "display_name": "Python 3",
      "language": "python",
      "name": "python3"
    },
    "language_info": {
      "name": "python"
    }
  },
  "nbformat": 4,
  "nbformat_minor": 5
}